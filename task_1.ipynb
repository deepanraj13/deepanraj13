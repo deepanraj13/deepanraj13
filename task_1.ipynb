{
  "nbformat": 4,
  "nbformat_minor": 0,
  "metadata": {
    "colab": {
      "provenance": [],
      "collapsed_sections": []
    },
    "kernelspec": {
      "name": "python3",
      "display_name": "Python 3"
    },
    "language_info": {
      "name": "python"
    }
  },
  "cells": [
    {
      "cell_type": "code",
      "execution_count": 4,
      "metadata": {
        "id": "j78Rz_f-5JK7",
        "colab": {
          "base_uri": "https://localhost:8080/"
        },
        "outputId": "ac166c45-36e0-4133-c759-4f9e0ccccf74"
      },
      "outputs": [
        {
          "output_type": "stream",
          "name": "stdout",
          "text": [
            "Enter your email id : deepan@gmail.com\n",
            "Enter the password:Deepan2@\n",
            "Valid password\n"
          ]
        }
      ],
      "source": [
        "email=input(\"Enter your email id : \")\n",
        "if email[0].isalpha():\n",
        "  if (email[-4]== \".\" ) or (email[-3]==\".\"):\n",
        "    if (email[-10]==\"@\") or (email[-9]==\"@\"):\n",
        "      pass\n",
        "    else:\n",
        "      print(\"Enter valid email address\") \n",
        "  else:\n",
        "    print(\"Enter valid email address\")\n",
        "else:\n",
        "  print(\"Enter valid email address\")\n",
        "password=input(\"Enter the password:\")\n",
        "length= True if len(password)>5 and len(password)<16 else False\n",
        "digit=any(char.isdigit() for char in password)\n",
        "upper=any(char.isupper() for char in password)\n",
        "lower=any(char.islower() for char in password)\n",
        "special_char=[\"*\",\"@\",\"#\",\"$\",\"%\",\"&\"]\n",
        "special_char_valid=any(char in special_char for char in password)\n",
        "valid=all([length,digit,upper,lower,special_char])\n",
        "if valid:\n",
        "    print(\"Valid password\")\n",
        "else:\n",
        "    print(\"Invalid password\")\n",
        "\n",
        "\n"
      ]
    },
    {
      "cell_type": "code",
      "source": [
        "\n",
        "\n",
        "\n",
        " "
      ],
      "metadata": {
        "id": "UqjxGLR1TW9-"
      },
      "execution_count": 4,
      "outputs": []
    }
  ]
}